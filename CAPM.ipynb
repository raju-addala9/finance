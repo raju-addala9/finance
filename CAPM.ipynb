{
 "cells": [
  {
   "cell_type": "code",
   "execution_count": 1,
   "id": "072ad99f-8721-4bc8-a139-41e0aa704eee",
   "metadata": {},
   "outputs": [],
   "source": [
    "import yfinance as yf # Import yahoo finance module\n",
    "import pandas as pd"
   ]
  },
  {
   "cell_type": "code",
   "execution_count": 2,
   "id": "61309708-6749-43a1-943d-d9cdb854dfae",
   "metadata": {},
   "outputs": [],
   "source": [
    "from model_helper import capm_model\n",
    "from model_helper import compute_beta"
   ]
  },
  {
   "cell_type": "code",
   "execution_count": 3,
   "id": "e914ba28-b353-42e7-b483-6f8b0397a882",
   "metadata": {},
   "outputs": [
    {
     "name": "stdout",
     "output_type": "stream",
     "text": [
      "working on SPY\n",
      "working on AAPL\n",
      "working on TSLA\n",
      "SPY 0.9999999999999989\n",
      "AAPL 1.1859208275193431\n",
      "TSLA 1.4254560258512496\n"
     ]
    }
   ],
   "source": [
    "beta  = compute_beta(['SPY', 'AAPL', 'TSLA'], 'SPY', '10Y')"
   ]
  },
  {
   "cell_type": "code",
   "execution_count": null,
   "id": "2625b1c6-ae66-40e7-be94-d89f406508d2",
   "metadata": {},
   "outputs": [],
   "source": [
    "for s in beta:\n",
    "    print(str(beta[s].std) + \" \" + str(beta[s].cov))"
   ]
  },
  {
   "cell_type": "code",
   "execution_count": 5,
   "id": "c2eca92e-f39a-4357-bd35-82677cfaeb95",
   "metadata": {},
   "outputs": [],
   "source": [
    "from model_helper import capm_modelMap"
   ]
  },
  {
   "cell_type": "code",
   "execution_count": null,
   "id": "bad5e08c-5fdd-4136-b715-1ee6489c0eab",
   "metadata": {},
   "outputs": [],
   "source": [
    "capm  = capm_modelMap(beta, 'SPY' , 5)"
   ]
  },
  {
   "cell_type": "code",
   "execution_count": null,
   "id": "91532dbb-ff2f-4d0a-b5f9-b8976b380e85",
   "metadata": {},
   "outputs": [],
   "source": [
    "capm"
   ]
  },
  {
   "cell_type": "code",
   "execution_count": 6,
   "id": "99676fea-7a9b-48f9-b468-20164698ee27",
   "metadata": {},
   "outputs": [
    {
     "data": {
      "text/plain": [
       "{'SPY': <stock.Stock at 0x7fdcd838c610>,\n",
       " 'AAPL': <stock.Stock at 0x7fdcd89a3f40>,\n",
       " 'TSLA': <stock.Stock at 0x7fdcb946e2b0>}"
      ]
     },
     "execution_count": 6,
     "metadata": {},
     "output_type": "execute_result"
    }
   ],
   "source": [
    "capm2  = capm_modelMap(beta, 'SPY' , 10)\n",
    "capm2"
   ]
  },
  {
   "cell_type": "code",
   "execution_count": null,
   "id": "88dacd6b-899c-440e-b412-0a87c1dadf35",
   "metadata": {},
   "outputs": [],
   "source": [
    "from stock import Stock\n",
    "for s in capm2:\n",
    "    #print(capm2[s].exp_return)\n",
    "    print(vars(capm2[s]))\n",
    "    p  = pd.DataFrame([vars(f) for f in allFoo])"
   ]
  },
  {
   "cell_type": "code",
   "execution_count": 7,
   "id": "71d2ee76-aa79-4339-949c-1df69a874233",
   "metadata": {},
   "outputs": [],
   "source": [
    "import pandas as pd\n",
    "p  = pd.DataFrame([vars(capm2[s]) for s in capm2])"
   ]
  },
  {
   "cell_type": "code",
   "execution_count": 8,
   "id": "fb9a8f9f-c528-458d-9187-e30bc0e6be29",
   "metadata": {},
   "outputs": [
    {
     "data": {
      "text/html": [
       "<div>\n",
       "<style scoped>\n",
       "    .dataframe tbody tr th:only-of-type {\n",
       "        vertical-align: middle;\n",
       "    }\n",
       "\n",
       "    .dataframe tbody tr th {\n",
       "        vertical-align: top;\n",
       "    }\n",
       "\n",
       "    .dataframe thead th {\n",
       "        text-align: right;\n",
       "    }\n",
       "</style>\n",
       "<table border=\"1\" class=\"dataframe\">\n",
       "  <thead>\n",
       "    <tr style=\"text-align: right;\">\n",
       "      <th></th>\n",
       "      <th>ticker</th>\n",
       "      <th>beta</th>\n",
       "      <th>exp_return</th>\n",
       "      <th>annual_return</th>\n",
       "      <th>var</th>\n",
       "      <th>std</th>\n",
       "      <th>cov</th>\n",
       "      <th>corr</th>\n",
       "      <th>systematic</th>\n",
       "      <th>idiosyncratic</th>\n",
       "    </tr>\n",
       "  </thead>\n",
       "  <tbody>\n",
       "    <tr>\n",
       "      <th>0</th>\n",
       "      <td>SPY</td>\n",
       "      <td>1.000000</td>\n",
       "      <td>13.984744</td>\n",
       "      <td>13.984744</td>\n",
       "      <td>1.189169</td>\n",
       "      <td>1.090490</td>\n",
       "      <td>1.189169</td>\n",
       "      <td>1.000000</td>\n",
       "      <td>1.189169</td>\n",
       "      <td>0.000000</td>\n",
       "    </tr>\n",
       "    <tr>\n",
       "      <th>1</th>\n",
       "      <td>AAPL</td>\n",
       "      <td>1.185921</td>\n",
       "      <td>14.725590</td>\n",
       "      <td>26.238958</td>\n",
       "      <td>3.378098</td>\n",
       "      <td>1.837960</td>\n",
       "      <td>1.410260</td>\n",
       "      <td>0.703625</td>\n",
       "      <td>1.672457</td>\n",
       "      <td>1.705641</td>\n",
       "    </tr>\n",
       "    <tr>\n",
       "      <th>2</th>\n",
       "      <td>TSLA</td>\n",
       "      <td>1.425456</td>\n",
       "      <td>15.680077</td>\n",
       "      <td>61.492038</td>\n",
       "      <td>12.726828</td>\n",
       "      <td>3.567468</td>\n",
       "      <td>1.695108</td>\n",
       "      <td>0.435728</td>\n",
       "      <td>2.416302</td>\n",
       "      <td>10.310526</td>\n",
       "    </tr>\n",
       "  </tbody>\n",
       "</table>\n",
       "</div>"
      ],
      "text/plain": [
       "  ticker      beta  exp_return  annual_return        var       std       cov  \\\n",
       "0    SPY  1.000000   13.984744      13.984744   1.189169  1.090490  1.189169   \n",
       "1   AAPL  1.185921   14.725590      26.238958   3.378098  1.837960  1.410260   \n",
       "2   TSLA  1.425456   15.680077      61.492038  12.726828  3.567468  1.695108   \n",
       "\n",
       "       corr  systematic  idiosyncratic  \n",
       "0  1.000000    1.189169       0.000000  \n",
       "1  0.703625    1.672457       1.705641  \n",
       "2  0.435728    2.416302      10.310526  "
      ]
     },
     "execution_count": 8,
     "metadata": {},
     "output_type": "execute_result"
    }
   ],
   "source": [
    "p.head()"
   ]
  },
  {
   "cell_type": "code",
   "execution_count": 9,
   "id": "d701483e-bce1-48a3-a286-c74716cbc9f4",
   "metadata": {},
   "outputs": [],
   "source": [
    "from scipy import stats"
   ]
  },
  {
   "cell_type": "code",
   "execution_count": 10,
   "id": "1fb34600-a26b-4ab6-abcb-9fbca705e9aa",
   "metadata": {},
   "outputs": [],
   "source": [
    "stock_returns = [0.065, 0.0265, -0.0593, -0.001, 0.0346]\n",
    "mkt_returns = [0.055, -0.09, -0.041, 0.045, 0.022]"
   ]
  },
  {
   "cell_type": "code",
   "execution_count": 11,
   "id": "6d24aab7-d239-4e93-81a3-b09e055051b8",
   "metadata": {},
   "outputs": [],
   "source": [
    "beta, alpha, r_value, p_value, std_err =  stats.linregress(stock_returns, mkt_returns)"
   ]
  },
  {
   "cell_type": "code",
   "execution_count": 12,
   "id": "7d08a587-674f-4f03-9085-db74b8d06a2a",
   "metadata": {},
   "outputs": [
    {
     "name": "stdout",
     "output_type": "stream",
     "text": [
      "0.5077431878770808 -0.008481900352462384\n"
     ]
    }
   ],
   "source": [
    " print(beta, alpha)"
   ]
  },
  {
   "cell_type": "code",
   "execution_count": 14,
   "id": "7645b260-387c-47ec-8ed6-8ce595051d69",
   "metadata": {},
   "outputs": [],
   "source": [
    "import pandas as pd\n",
    "dg = pd.read_excel('Beta.xlsx')"
   ]
  },
  {
   "cell_type": "code",
   "execution_count": 15,
   "id": "dba2eb1c-6744-4fb2-9e46-653c33e4e287",
   "metadata": {},
   "outputs": [
    {
     "data": {
      "text/html": [
       "<div>\n",
       "<style scoped>\n",
       "    .dataframe tbody tr th:only-of-type {\n",
       "        vertical-align: middle;\n",
       "    }\n",
       "\n",
       "    .dataframe tbody tr th {\n",
       "        vertical-align: top;\n",
       "    }\n",
       "\n",
       "    .dataframe thead th {\n",
       "        text-align: right;\n",
       "    }\n",
       "</style>\n",
       "<table border=\"1\" class=\"dataframe\">\n",
       "  <thead>\n",
       "    <tr style=\"text-align: right;\">\n",
       "      <th></th>\n",
       "      <th>mydate</th>\n",
       "      <th>SPY</th>\n",
       "      <th>SPY_daily_return</th>\n",
       "      <th>AAPL</th>\n",
       "      <th>AAPL_daily_return</th>\n",
       "      <th>TSLA</th>\n",
       "      <th>TSLA_daily_return</th>\n",
       "    </tr>\n",
       "  </thead>\n",
       "  <tbody>\n",
       "    <tr>\n",
       "      <th>0</th>\n",
       "      <td>2022-11-11</td>\n",
       "      <td>398.510010</td>\n",
       "      <td>0.967850</td>\n",
       "      <td>149.699997</td>\n",
       "      <td>1.926875</td>\n",
       "      <td>195.970001</td>\n",
       "      <td>2.752726</td>\n",
       "    </tr>\n",
       "    <tr>\n",
       "      <th>1</th>\n",
       "      <td>2022-11-10</td>\n",
       "      <td>394.690002</td>\n",
       "      <td>5.495415</td>\n",
       "      <td>146.869995</td>\n",
       "      <td>8.897457</td>\n",
       "      <td>190.720001</td>\n",
       "      <td>7.393437</td>\n",
       "    </tr>\n",
       "    <tr>\n",
       "      <th>2</th>\n",
       "      <td>2022-11-09</td>\n",
       "      <td>374.130005</td>\n",
       "      <td>-2.060208</td>\n",
       "      <td>134.869995</td>\n",
       "      <td>-3.319000</td>\n",
       "      <td>177.589996</td>\n",
       "      <td>-7.166757</td>\n",
       "    </tr>\n",
       "    <tr>\n",
       "      <th>3</th>\n",
       "      <td>2022-11-08</td>\n",
       "      <td>382.000000</td>\n",
       "      <td>0.539541</td>\n",
       "      <td>139.500000</td>\n",
       "      <td>0.417508</td>\n",
       "      <td>191.300003</td>\n",
       "      <td>-2.932819</td>\n",
       "    </tr>\n",
       "    <tr>\n",
       "      <th>4</th>\n",
       "      <td>2022-11-07</td>\n",
       "      <td>379.950012</td>\n",
       "      <td>0.956558</td>\n",
       "      <td>138.919998</td>\n",
       "      <td>0.390225</td>\n",
       "      <td>197.080002</td>\n",
       "      <td>-5.007953</td>\n",
       "    </tr>\n",
       "  </tbody>\n",
       "</table>\n",
       "</div>"
      ],
      "text/plain": [
       "      mydate         SPY  SPY_daily_return        AAPL  AAPL_daily_return  \\\n",
       "0 2022-11-11  398.510010          0.967850  149.699997           1.926875   \n",
       "1 2022-11-10  394.690002          5.495415  146.869995           8.897457   \n",
       "2 2022-11-09  374.130005         -2.060208  134.869995          -3.319000   \n",
       "3 2022-11-08  382.000000          0.539541  139.500000           0.417508   \n",
       "4 2022-11-07  379.950012          0.956558  138.919998           0.390225   \n",
       "\n",
       "         TSLA  TSLA_daily_return  \n",
       "0  195.970001           2.752726  \n",
       "1  190.720001           7.393437  \n",
       "2  177.589996          -7.166757  \n",
       "3  191.300003          -2.932819  \n",
       "4  197.080002          -5.007953  "
      ]
     },
     "execution_count": 15,
     "metadata": {},
     "output_type": "execute_result"
    }
   ],
   "source": [
    "dg.head()"
   ]
  },
  {
   "cell_type": "code",
   "execution_count": 20,
   "id": "1ac54455-eb9e-4634-8b6e-03a1108cca6d",
   "metadata": {},
   "outputs": [
    {
     "name": "stdout",
     "output_type": "stream",
     "text": [
      "<class 'pandas.core.frame.DataFrame'>\n",
      "RangeIndex: 2519 entries, 0 to 2518\n",
      "Data columns (total 7 columns):\n",
      " #   Column             Non-Null Count  Dtype         \n",
      "---  ------             --------------  -----         \n",
      " 0   mydate             2519 non-null   datetime64[ns]\n",
      " 1   SPY                2519 non-null   float64       \n",
      " 2   SPY_daily_return   2518 non-null   float64       \n",
      " 3   AAPL               2519 non-null   float64       \n",
      " 4   AAPL_daily_return  2518 non-null   float64       \n",
      " 5   TSLA               2519 non-null   float64       \n",
      " 6   TSLA_daily_return  2518 non-null   float64       \n",
      "dtypes: datetime64[ns](1), float64(6)\n",
      "memory usage: 137.9 KB\n"
     ]
    }
   ],
   "source": [
    "dg.info()"
   ]
  },
  {
   "cell_type": "code",
   "execution_count": 29,
   "id": "fbbac07f-c638-4cc8-a14e-39052031325c",
   "metadata": {},
   "outputs": [],
   "source": [
    "beta, alpha, r_value, p_value, std_err =  stats.linregress(dg['SPY_daily_return'], dg['AAPL_daily_return'])"
   ]
  },
  {
   "cell_type": "code",
   "execution_count": 30,
   "id": "c31cca3e-7040-4f56-a187-fd6461f563cc",
   "metadata": {},
   "outputs": [
    {
     "name": "stdout",
     "output_type": "stream",
     "text": [
      "1.1859208275193445 0.03831015777705234\n"
     ]
    }
   ],
   "source": [
    "print(beta, alpha)"
   ]
  },
  {
   "cell_type": "code",
   "execution_count": 26,
   "id": "9e9a5f02-c85b-4c85-857a-87ad0d5fa0e7",
   "metadata": {},
   "outputs": [
    {
     "data": {
      "text/plain": [
       "mydate               0\n",
       "SPY                  0\n",
       "SPY_daily_return     0\n",
       "AAPL                 0\n",
       "AAPL_daily_return    0\n",
       "TSLA                 0\n",
       "TSLA_daily_return    0\n",
       "dtype: int64"
      ]
     },
     "execution_count": 26,
     "metadata": {},
     "output_type": "execute_result"
    }
   ],
   "source": [
    "dg.isnull().sum() "
   ]
  },
  {
   "cell_type": "code",
   "execution_count": 25,
   "id": "d3dc5a31-4f98-475d-8e15-40f9e96cd7cd",
   "metadata": {},
   "outputs": [],
   "source": [
    "dg = dg.dropna()"
   ]
  },
  {
   "cell_type": "code",
   "execution_count": 33,
   "id": "4b8228da-e880-43cc-a089-e87ea044b48f",
   "metadata": {},
   "outputs": [
    {
     "data": {
      "text/plain": [
       "1.4102604005244408"
      ]
     },
     "execution_count": 33,
     "metadata": {},
     "output_type": "execute_result"
    }
   ],
   "source": [
    "a= dg['SPY_daily_return'].cov(dg['AAPL_daily_return'])\n",
    "a"
   ]
  },
  {
   "cell_type": "code",
   "execution_count": null,
   "id": "94aed43c-7ec4-4b56-b61f-59154d228303",
   "metadata": {},
   "outputs": [],
   "source": []
  }
 ],
 "metadata": {
  "kernelspec": {
   "display_name": "Python 3",
   "language": "python",
   "name": "python3"
  },
  "language_info": {
   "codemirror_mode": {
    "name": "ipython",
    "version": 3
   },
   "file_extension": ".py",
   "mimetype": "text/x-python",
   "name": "python",
   "nbconvert_exporter": "python",
   "pygments_lexer": "ipython3",
   "version": "3.8.8"
  }
 },
 "nbformat": 4,
 "nbformat_minor": 5
}
