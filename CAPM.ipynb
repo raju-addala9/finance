{
 "cells": [
  {
   "cell_type": "code",
   "execution_count": null,
   "id": "072ad99f-8721-4bc8-a139-41e0aa704eee",
   "metadata": {},
   "outputs": [],
   "source": [
    "import yfinance as yf # Import yahoo finance module\n",
    "import pandas as pd"
   ]
  },
  {
   "cell_type": "code",
   "execution_count": 1,
   "id": "61309708-6749-43a1-943d-d9cdb854dfae",
   "metadata": {},
   "outputs": [],
   "source": [
    "from model_helper import capm_model\n",
    "from model_helper import compute_beta"
   ]
  },
  {
   "cell_type": "code",
   "execution_count": 2,
   "id": "e914ba28-b353-42e7-b483-6f8b0397a882",
   "metadata": {},
   "outputs": [
    {
     "name": "stdout",
     "output_type": "stream",
     "text": [
      "working on SPY\n",
      "working on AAPL\n",
      "working on TSLA\n",
      "SPY 1.0000000000000009\n",
      "AAPL 1.1859212367100407\n",
      "TSLA 1.4254578423342281\n"
     ]
    }
   ],
   "source": [
    "beta  = compute_beta(['SPY', 'AAPL', 'TSLA'], 'SPY', '10Y')"
   ]
  },
  {
   "cell_type": "code",
   "execution_count": 3,
   "id": "2625b1c6-ae66-40e7-be94-d89f406508d2",
   "metadata": {},
   "outputs": [
    {
     "name": "stdout",
     "output_type": "stream",
     "text": [
      "1.090490174981603 1.189168821731408\n",
      "1.8379599505361772 1.410260559724732\n",
      "3.567468059603882 1.6951100227963876\n"
     ]
    }
   ],
   "source": [
    "for s in beta:\n",
    "    print(str(beta[s].std) + \" \" + str(beta[s].cov))"
   ]
  },
  {
   "cell_type": "code",
   "execution_count": 4,
   "id": "c2eca92e-f39a-4357-bd35-82677cfaeb95",
   "metadata": {},
   "outputs": [],
   "source": [
    "from model_helper import capm_modelMap"
   ]
  },
  {
   "cell_type": "code",
   "execution_count": 5,
   "id": "bad5e08c-5fdd-4136-b715-1ee6489c0eab",
   "metadata": {},
   "outputs": [],
   "source": [
    "capm  = capm_modelMap(beta, 'SPY' , 5)"
   ]
  },
  {
   "cell_type": "code",
   "execution_count": 6,
   "id": "91532dbb-ff2f-4d0a-b5f9-b8976b380e85",
   "metadata": {},
   "outputs": [
    {
     "data": {
      "text/plain": [
       "{'SPY': <stock.Stock at 0x7fb3a0f891c0>,\n",
       " 'AAPL': <stock.Stock at 0x7fb3b09746a0>,\n",
       " 'TSLA': <stock.Stock at 0x7fb39113ff70>}"
      ]
     },
     "execution_count": 6,
     "metadata": {},
     "output_type": "execute_result"
    }
   ],
   "source": [
    "capm"
   ]
  },
  {
   "cell_type": "code",
   "execution_count": 7,
   "id": "99676fea-7a9b-48f9-b468-20164698ee27",
   "metadata": {},
   "outputs": [
    {
     "data": {
      "text/plain": [
       "{'SPY': <stock.Stock at 0x7fb3a0f891c0>,\n",
       " 'AAPL': <stock.Stock at 0x7fb3b09746a0>,\n",
       " 'TSLA': <stock.Stock at 0x7fb39113ff70>}"
      ]
     },
     "execution_count": 7,
     "metadata": {},
     "output_type": "execute_result"
    }
   ],
   "source": [
    "capm2  = capm_modelMap(beta, 'SPY' , 10)\n",
    "capm2"
   ]
  },
  {
   "cell_type": "code",
   "execution_count": 8,
   "id": "88dacd6b-899c-440e-b412-0a87c1dadf35",
   "metadata": {},
   "outputs": [
    {
     "name": "stdout",
     "output_type": "stream",
     "text": [
      "{'ticker': 'SPY', 'beta': 13.984738515549385, 'exp_return': 13.984738515549385, 'annual_return': 13.984738515549385, 'var': 1.189168821731407, 'std': 1.090490174981603, 'cov': 1.189168821731408, 'corr': 1.0, 'systematic': 1.1891688217314091, 'idiosyncratic': -2.220446049250313e-15}\n"
     ]
    },
    {
     "ename": "NameError",
     "evalue": "name 'pd' is not defined",
     "output_type": "error",
     "traceback": [
      "\u001b[0;31m---------------------------------------------------------------------------\u001b[0m",
      "\u001b[0;31mNameError\u001b[0m                                 Traceback (most recent call last)",
      "\u001b[0;32m<ipython-input-8-b0938421272b>\u001b[0m in \u001b[0;36m<module>\u001b[0;34m\u001b[0m\n\u001b[1;32m      3\u001b[0m     \u001b[0;31m#print(capm2[s].exp_return)\u001b[0m\u001b[0;34m\u001b[0m\u001b[0;34m\u001b[0m\u001b[0;34m\u001b[0m\u001b[0m\n\u001b[1;32m      4\u001b[0m     \u001b[0mprint\u001b[0m\u001b[0;34m(\u001b[0m\u001b[0mvars\u001b[0m\u001b[0;34m(\u001b[0m\u001b[0mcapm2\u001b[0m\u001b[0;34m[\u001b[0m\u001b[0ms\u001b[0m\u001b[0;34m]\u001b[0m\u001b[0;34m)\u001b[0m\u001b[0;34m)\u001b[0m\u001b[0;34m\u001b[0m\u001b[0;34m\u001b[0m\u001b[0m\n\u001b[0;32m----> 5\u001b[0;31m     \u001b[0mp\u001b[0m  \u001b[0;34m=\u001b[0m \u001b[0mpd\u001b[0m\u001b[0;34m.\u001b[0m\u001b[0mDataFrame\u001b[0m\u001b[0;34m(\u001b[0m\u001b[0;34m[\u001b[0m\u001b[0mvars\u001b[0m\u001b[0;34m(\u001b[0m\u001b[0mf\u001b[0m\u001b[0;34m)\u001b[0m \u001b[0;32mfor\u001b[0m \u001b[0mf\u001b[0m \u001b[0;32min\u001b[0m \u001b[0mallFoo\u001b[0m\u001b[0;34m]\u001b[0m\u001b[0;34m)\u001b[0m\u001b[0;34m\u001b[0m\u001b[0;34m\u001b[0m\u001b[0m\n\u001b[0m",
      "\u001b[0;31mNameError\u001b[0m: name 'pd' is not defined"
     ]
    }
   ],
   "source": [
    "from stock import Stock\n",
    "for s in capm2:\n",
    "    #print(capm2[s].exp_return)\n",
    "    print(vars(capm2[s]))\n",
    "    p  = pd.DataFrame([vars(f) for f in allFoo])"
   ]
  },
  {
   "cell_type": "code",
   "execution_count": 9,
   "id": "71d2ee76-aa79-4339-949c-1df69a874233",
   "metadata": {},
   "outputs": [],
   "source": [
    "import pandas as pd\n",
    "p  = pd.DataFrame([vars(capm2[s]) for s in capm2])"
   ]
  },
  {
   "cell_type": "code",
   "execution_count": 10,
   "id": "fb9a8f9f-c528-458d-9187-e30bc0e6be29",
   "metadata": {},
   "outputs": [
    {
     "data": {
      "text/html": [
       "<div>\n",
       "<style scoped>\n",
       "    .dataframe tbody tr th:only-of-type {\n",
       "        vertical-align: middle;\n",
       "    }\n",
       "\n",
       "    .dataframe tbody tr th {\n",
       "        vertical-align: top;\n",
       "    }\n",
       "\n",
       "    .dataframe thead th {\n",
       "        text-align: right;\n",
       "    }\n",
       "</style>\n",
       "<table border=\"1\" class=\"dataframe\">\n",
       "  <thead>\n",
       "    <tr style=\"text-align: right;\">\n",
       "      <th></th>\n",
       "      <th>ticker</th>\n",
       "      <th>beta</th>\n",
       "      <th>exp_return</th>\n",
       "      <th>annual_return</th>\n",
       "      <th>var</th>\n",
       "      <th>std</th>\n",
       "      <th>cov</th>\n",
       "      <th>corr</th>\n",
       "      <th>systematic</th>\n",
       "      <th>idiosyncratic</th>\n",
       "    </tr>\n",
       "  </thead>\n",
       "  <tbody>\n",
       "    <tr>\n",
       "      <th>0</th>\n",
       "      <td>SPY</td>\n",
       "      <td>13.984739</td>\n",
       "      <td>13.984739</td>\n",
       "      <td>13.984739</td>\n",
       "      <td>1.189169</td>\n",
       "      <td>1.090490</td>\n",
       "      <td>1.189169</td>\n",
       "      <td>1.000000</td>\n",
       "      <td>1.189169</td>\n",
       "      <td>-2.220446e-15</td>\n",
       "    </tr>\n",
       "    <tr>\n",
       "      <th>1</th>\n",
       "      <td>AAPL</td>\n",
       "      <td>1.185921</td>\n",
       "      <td>14.725586</td>\n",
       "      <td>26.238958</td>\n",
       "      <td>3.378097</td>\n",
       "      <td>1.837960</td>\n",
       "      <td>1.410261</td>\n",
       "      <td>0.703625</td>\n",
       "      <td>1.672458</td>\n",
       "      <td>1.705639e+00</td>\n",
       "    </tr>\n",
       "    <tr>\n",
       "      <th>2</th>\n",
       "      <td>TSLA</td>\n",
       "      <td>1.425458</td>\n",
       "      <td>15.680077</td>\n",
       "      <td>61.492038</td>\n",
       "      <td>12.726828</td>\n",
       "      <td>3.567468</td>\n",
       "      <td>1.695110</td>\n",
       "      <td>0.435729</td>\n",
       "      <td>2.416308</td>\n",
       "      <td>1.031052e+01</td>\n",
       "    </tr>\n",
       "  </tbody>\n",
       "</table>\n",
       "</div>"
      ],
      "text/plain": [
       "  ticker       beta  exp_return  annual_return        var       std       cov  \\\n",
       "0    SPY  13.984739   13.984739      13.984739   1.189169  1.090490  1.189169   \n",
       "1   AAPL   1.185921   14.725586      26.238958   3.378097  1.837960  1.410261   \n",
       "2   TSLA   1.425458   15.680077      61.492038  12.726828  3.567468  1.695110   \n",
       "\n",
       "       corr  systematic  idiosyncratic  \n",
       "0  1.000000    1.189169  -2.220446e-15  \n",
       "1  0.703625    1.672458   1.705639e+00  \n",
       "2  0.435729    2.416308   1.031052e+01  "
      ]
     },
     "execution_count": 10,
     "metadata": {},
     "output_type": "execute_result"
    }
   ],
   "source": [
    "p.head()"
   ]
  },
  {
   "cell_type": "code",
   "execution_count": null,
   "id": "d701483e-bce1-48a3-a286-c74716cbc9f4",
   "metadata": {},
   "outputs": [],
   "source": [
    "from scipy import stats"
   ]
  },
  {
   "cell_type": "code",
   "execution_count": null,
   "id": "1fb34600-a26b-4ab6-abcb-9fbca705e9aa",
   "metadata": {},
   "outputs": [],
   "source": [
    "stock_returns = [0.065, 0.0265, -0.0593, -0.001, 0.0346]\n",
    "mkt_returns = [0.055, -0.09, -0.041, 0.045, 0.022]"
   ]
  },
  {
   "cell_type": "code",
   "execution_count": null,
   "id": "6d24aab7-d239-4e93-81a3-b09e055051b8",
   "metadata": {},
   "outputs": [],
   "source": [
    "beta, alpha, r_value, p_value, std_err =  stats.linregress(stock_returns, mkt_returns)"
   ]
  },
  {
   "cell_type": "code",
   "execution_count": null,
   "id": "7d08a587-674f-4f03-9085-db74b8d06a2a",
   "metadata": {},
   "outputs": [],
   "source": [
    " print(beta, alpha)"
   ]
  },
  {
   "cell_type": "code",
   "execution_count": null,
   "id": "7645b260-387c-47ec-8ed6-8ce595051d69",
   "metadata": {},
   "outputs": [],
   "source": []
  }
 ],
 "metadata": {
  "kernelspec": {
   "display_name": "Python 3",
   "language": "python",
   "name": "python3"
  },
  "language_info": {
   "codemirror_mode": {
    "name": "ipython",
    "version": 3
   },
   "file_extension": ".py",
   "mimetype": "text/x-python",
   "name": "python",
   "nbconvert_exporter": "python",
   "pygments_lexer": "ipython3",
   "version": "3.8.8"
  }
 },
 "nbformat": 4,
 "nbformat_minor": 5
}
