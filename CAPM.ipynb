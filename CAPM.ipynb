{
 "cells": [
  {
   "cell_type": "code",
   "execution_count": null,
   "id": "072ad99f-8721-4bc8-a139-41e0aa704eee",
   "metadata": {},
   "outputs": [],
   "source": [
    "import yfinance as yf # Import yahoo finance module\n",
    "import pandas as pd"
   ]
  },
  {
   "cell_type": "code",
   "execution_count": 1,
   "id": "61309708-6749-43a1-943d-d9cdb854dfae",
   "metadata": {},
   "outputs": [],
   "source": [
    "from model_helper import capm_model\n",
    "from model_helper import compute_beta"
   ]
  },
  {
   "cell_type": "code",
   "execution_count": 2,
   "id": "e914ba28-b353-42e7-b483-6f8b0397a882",
   "metadata": {},
   "outputs": [
    {
     "name": "stdout",
     "output_type": "stream",
     "text": [
      "working on SPY\n",
      "working on AAPL\n",
      "working on TSLA\n",
      "SPY 1.0000000000000016\n",
      "AAPL 1.2369455343130882\n",
      "TSLA 1.4550338769003694\n"
     ]
    }
   ],
   "source": [
    "beta  = compute_beta(['SPY', 'AAPL', 'TSLA'], 'SPY', '5Y')"
   ]
  },
  {
   "cell_type": "code",
   "execution_count": null,
   "id": "2625b1c6-ae66-40e7-be94-d89f406508d2",
   "metadata": {},
   "outputs": [],
   "source": [
    "for s in beta:\n",
    "    print(str(beta[s].std) + \" \" + str(beta[s].cov))"
   ]
  },
  {
   "cell_type": "code",
   "execution_count": 3,
   "id": "c2eca92e-f39a-4357-bd35-82677cfaeb95",
   "metadata": {},
   "outputs": [],
   "source": [
    "from model_helper import capm_modelMap"
   ]
  },
  {
   "cell_type": "code",
   "execution_count": null,
   "id": "bad5e08c-5fdd-4136-b715-1ee6489c0eab",
   "metadata": {},
   "outputs": [],
   "source": [
    "capm  = capm_modelMap(beta, 'SPY' , 5)"
   ]
  },
  {
   "cell_type": "code",
   "execution_count": null,
   "id": "91532dbb-ff2f-4d0a-b5f9-b8976b380e85",
   "metadata": {},
   "outputs": [],
   "source": [
    "capm"
   ]
  },
  {
   "cell_type": "code",
   "execution_count": 4,
   "id": "99676fea-7a9b-48f9-b468-20164698ee27",
   "metadata": {},
   "outputs": [
    {
     "data": {
      "text/plain": [
       "{'SPY': <stock.Stock at 0x7fcd50ba1f40>,\n",
       " 'AAPL': <stock.Stock at 0x7fcd908ddb50>,\n",
       " 'TSLA': <stock.Stock at 0x7fcd908c4d60>}"
      ]
     },
     "execution_count": 4,
     "metadata": {},
     "output_type": "execute_result"
    }
   ],
   "source": [
    "capm2  = capm_modelMap(beta, 'SPY' , 10)\n",
    "capm2"
   ]
  },
  {
   "cell_type": "code",
   "execution_count": 20,
   "id": "88dacd6b-899c-440e-b412-0a87c1dadf35",
   "metadata": {},
   "outputs": [
    {
     "name": "stdout",
     "output_type": "stream",
     "text": [
      "{'ticker': 'SPY', 'beta': 11.841107926018715, 'exp_return': 11.841107926018715, 'annual_return': 11.841107926018715, 'var': 1.7854641897258043, 'std': 1.3362126289351572, 'cov': 1.785464189725807, 'corr': 0.9999999999999999}\n",
      "{'ticker': 'AAPL', 'beta': 1.2369455343130882, 'exp_return': 12.277350227277282, 'annual_return': 29.67147501904875, 'var': 4.308271956350846, 'std': 2.0756377228097502, 'cov': 2.20852195615727, 'corr': 0.7962961099091508}\n",
      "{'ticker': 'TSLA', 'beta': 1.4550338769003694, 'exp_return': 12.67887440338701, 'annual_return': 65.81283115716083, 'var': 16.494648760888854, 'std': 4.061360456902201, 'cov': 2.597910882043514, 'corr': 0.47871511590126586}\n"
     ]
    }
   ],
   "source": [
    "from stock import Stock\n",
    "for s in capm2:\n",
    "    #print(capm2[s].exp_return)\n",
    "    print(vars(capm2[s]))\n",
    "    p  = pd.DataFrame([vars(f) for f in allFoo])"
   ]
  },
  {
   "cell_type": "code",
   "execution_count": 23,
   "id": "71d2ee76-aa79-4339-949c-1df69a874233",
   "metadata": {},
   "outputs": [],
   "source": [
    "import pandas as pd\n",
    "p  = pd.DataFrame([vars(capm2[s]) for s in capm2])"
   ]
  },
  {
   "cell_type": "code",
   "execution_count": 24,
   "id": "fb9a8f9f-c528-458d-9187-e30bc0e6be29",
   "metadata": {},
   "outputs": [
    {
     "data": {
      "text/html": [
       "<div>\n",
       "<style scoped>\n",
       "    .dataframe tbody tr th:only-of-type {\n",
       "        vertical-align: middle;\n",
       "    }\n",
       "\n",
       "    .dataframe tbody tr th {\n",
       "        vertical-align: top;\n",
       "    }\n",
       "\n",
       "    .dataframe thead th {\n",
       "        text-align: right;\n",
       "    }\n",
       "</style>\n",
       "<table border=\"1\" class=\"dataframe\">\n",
       "  <thead>\n",
       "    <tr style=\"text-align: right;\">\n",
       "      <th></th>\n",
       "      <th>ticker</th>\n",
       "      <th>beta</th>\n",
       "      <th>exp_return</th>\n",
       "      <th>annual_return</th>\n",
       "      <th>var</th>\n",
       "      <th>std</th>\n",
       "      <th>cov</th>\n",
       "      <th>corr</th>\n",
       "    </tr>\n",
       "  </thead>\n",
       "  <tbody>\n",
       "    <tr>\n",
       "      <th>0</th>\n",
       "      <td>SPY</td>\n",
       "      <td>11.841108</td>\n",
       "      <td>11.841108</td>\n",
       "      <td>11.841108</td>\n",
       "      <td>1.785464</td>\n",
       "      <td>1.336213</td>\n",
       "      <td>1.785464</td>\n",
       "      <td>1.000000</td>\n",
       "    </tr>\n",
       "    <tr>\n",
       "      <th>1</th>\n",
       "      <td>AAPL</td>\n",
       "      <td>1.236946</td>\n",
       "      <td>12.277350</td>\n",
       "      <td>29.671475</td>\n",
       "      <td>4.308272</td>\n",
       "      <td>2.075638</td>\n",
       "      <td>2.208522</td>\n",
       "      <td>0.796296</td>\n",
       "    </tr>\n",
       "    <tr>\n",
       "      <th>2</th>\n",
       "      <td>TSLA</td>\n",
       "      <td>1.455034</td>\n",
       "      <td>12.678874</td>\n",
       "      <td>65.812831</td>\n",
       "      <td>16.494649</td>\n",
       "      <td>4.061360</td>\n",
       "      <td>2.597911</td>\n",
       "      <td>0.478715</td>\n",
       "    </tr>\n",
       "  </tbody>\n",
       "</table>\n",
       "</div>"
      ],
      "text/plain": [
       "  ticker       beta  exp_return  annual_return        var       std       cov  \\\n",
       "0    SPY  11.841108   11.841108      11.841108   1.785464  1.336213  1.785464   \n",
       "1   AAPL   1.236946   12.277350      29.671475   4.308272  2.075638  2.208522   \n",
       "2   TSLA   1.455034   12.678874      65.812831  16.494649  4.061360  2.597911   \n",
       "\n",
       "       corr  \n",
       "0  1.000000  \n",
       "1  0.796296  \n",
       "2  0.478715  "
      ]
     },
     "execution_count": 24,
     "metadata": {},
     "output_type": "execute_result"
    }
   ],
   "source": [
    "p.head()"
   ]
  },
  {
   "cell_type": "code",
   "execution_count": null,
   "id": "d701483e-bce1-48a3-a286-c74716cbc9f4",
   "metadata": {},
   "outputs": [],
   "source": []
  }
 ],
 "metadata": {
  "kernelspec": {
   "display_name": "Python 3",
   "language": "python",
   "name": "python3"
  },
  "language_info": {
   "codemirror_mode": {
    "name": "ipython",
    "version": 3
   },
   "file_extension": ".py",
   "mimetype": "text/x-python",
   "name": "python",
   "nbconvert_exporter": "python",
   "pygments_lexer": "ipython3",
   "version": "3.8.8"
  }
 },
 "nbformat": 4,
 "nbformat_minor": 5
}
