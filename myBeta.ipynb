{
 "cells": [
  {
   "cell_type": "code",
   "execution_count": 1,
   "id": "072ad99f-8721-4bc8-a139-41e0aa704eee",
   "metadata": {},
   "outputs": [],
   "source": [
    "import yfinance as yf # Import yahoo finance module\n",
    "import pandas as pd"
   ]
  },
  {
   "cell_type": "code",
   "execution_count": 2,
   "id": "61309708-6749-43a1-943d-d9cdb854dfae",
   "metadata": {},
   "outputs": [],
   "source": [
    "from model_helper import capm_model\n",
    "from model_helper import compute_beta"
   ]
  },
  {
   "cell_type": "code",
   "execution_count": 3,
   "id": "e914ba28-b353-42e7-b483-6f8b0397a882",
   "metadata": {},
   "outputs": [
    {
     "name": "stdout",
     "output_type": "stream",
     "text": [
      "working on SPY\n",
      "working on AAPL\n",
      "working on TSLA\n",
      "working on NVDA\n",
      "working on ARM\n",
      "working on SMCI\n",
      "SPY 1.0\n",
      "AAPL 1.111274984952873\n",
      "TSLA 2.0225279062999912\n",
      "NVDA 2.3035973365012796\n",
      "ARM 3.212764788183915\n",
      "SMCI 3.9853878335942343\n"
     ]
    }
   ],
   "source": [
    "beta  = compute_beta(['SPY', 'AAPL', 'TSLA', 'NVDA', 'ARM', 'SMCI'], 'SPY', '1Y')"
   ]
  },
  {
   "cell_type": "code",
   "execution_count": 4,
   "id": "2625b1c6-ae66-40e7-be94-d89f406508d2",
   "metadata": {},
   "outputs": [
    {
     "name": "stdout",
     "output_type": "stream",
     "text": [
      "0.7006191998108761 0.4908672631436323\n",
      "1.4078839585632061 0.5454885104637979\n",
      "3.3002560088997126 0.9927927379970976\n",
      "2.86765994706656 1.1307605199533441\n",
      "5.670841410000862 1.57704105870007\n",
      "6.004213311819316 1.9562964184423317\n"
     ]
    }
   ],
   "source": [
    "for s in beta:\n",
    "    print(str(beta[s].std) + \" \" + str(beta[s].cov))"
   ]
  },
  {
   "cell_type": "code",
   "execution_count": 5,
   "id": "c2eca92e-f39a-4357-bd35-82677cfaeb95",
   "metadata": {},
   "outputs": [],
   "source": [
    "from model_helper import capm_modelMap"
   ]
  },
  {
   "cell_type": "code",
   "execution_count": 6,
   "id": "bad5e08c-5fdd-4136-b715-1ee6489c0eab",
   "metadata": {},
   "outputs": [],
   "source": [
    "capm  = capm_modelMap(beta, 'SPY' , 5)"
   ]
  },
  {
   "cell_type": "code",
   "execution_count": 7,
   "id": "91532dbb-ff2f-4d0a-b5f9-b8976b380e85",
   "metadata": {},
   "outputs": [
    {
     "data": {
      "text/plain": [
       "{'SPY': <stock.Stock at 0x7fa8c03c0cd0>,\n",
       " 'AAPL': <stock.Stock at 0x7fa8d01dda90>,\n",
       " 'TSLA': <stock.Stock at 0x7fa8d019ebe0>,\n",
       " 'NVDA': <stock.Stock at 0x7fa8d01dddf0>,\n",
       " 'ARM': <stock.Stock at 0x7fa8d01ddbb0>,\n",
       " 'SMCI': <stock.Stock at 0x7fa8d019ec70>}"
      ]
     },
     "execution_count": 7,
     "metadata": {},
     "output_type": "execute_result"
    }
   ],
   "source": [
    "capm"
   ]
  },
  {
   "cell_type": "code",
   "execution_count": 8,
   "id": "99676fea-7a9b-48f9-b468-20164698ee27",
   "metadata": {},
   "outputs": [
    {
     "data": {
      "text/plain": [
       "{'SPY': <stock.Stock at 0x7fa8c03c0cd0>,\n",
       " 'AAPL': <stock.Stock at 0x7fa8d01dda90>,\n",
       " 'TSLA': <stock.Stock at 0x7fa8d019ebe0>,\n",
       " 'NVDA': <stock.Stock at 0x7fa8d01dddf0>,\n",
       " 'ARM': <stock.Stock at 0x7fa8d01ddbb0>,\n",
       " 'SMCI': <stock.Stock at 0x7fa8d019ec70>}"
      ]
     },
     "execution_count": 8,
     "metadata": {},
     "output_type": "execute_result"
    }
   ],
   "source": [
    "capm2  = capm_modelMap(beta, 'SPY' , 10)\n",
    "capm2"
   ]
  },
  {
   "cell_type": "code",
   "execution_count": 9,
   "id": "71d2ee76-aa79-4339-949c-1df69a874233",
   "metadata": {},
   "outputs": [],
   "source": [
    "import pandas as pd\n",
    "p  = pd.DataFrame([vars(capm2[s]) for s in capm2])"
   ]
  },
  {
   "cell_type": "code",
   "execution_count": 23,
   "id": "fb9a8f9f-c528-458d-9187-e30bc0e6be29",
   "metadata": {},
   "outputs": [
    {
     "data": {
      "text/html": [
       "<div>\n",
       "<style scoped>\n",
       "    .dataframe tbody tr th:only-of-type {\n",
       "        vertical-align: middle;\n",
       "    }\n",
       "\n",
       "    .dataframe tbody tr th {\n",
       "        vertical-align: top;\n",
       "    }\n",
       "\n",
       "    .dataframe thead th {\n",
       "        text-align: right;\n",
       "    }\n",
       "</style>\n",
       "<table border=\"1\" class=\"dataframe\">\n",
       "  <thead>\n",
       "    <tr style=\"text-align: right;\">\n",
       "      <th></th>\n",
       "      <th>ticker</th>\n",
       "      <th>beta</th>\n",
       "      <th>exp_return</th>\n",
       "      <th>annual_return</th>\n",
       "      <th>var</th>\n",
       "      <th>std</th>\n",
       "      <th>cov</th>\n",
       "      <th>corr</th>\n",
       "      <th>systematic</th>\n",
       "      <th>idiosyncratic</th>\n",
       "    </tr>\n",
       "  </thead>\n",
       "  <tbody>\n",
       "    <tr>\n",
       "      <th>0</th>\n",
       "      <td>SPY</td>\n",
       "      <td>1.000000</td>\n",
       "      <td>24.073858</td>\n",
       "      <td>24.073858</td>\n",
       "      <td>0.490867</td>\n",
       "      <td>0.700619</td>\n",
       "      <td>0.490867</td>\n",
       "      <td>1.000000</td>\n",
       "      <td>0.490867</td>\n",
       "      <td>0.000000</td>\n",
       "    </tr>\n",
       "    <tr>\n",
       "      <th>1</th>\n",
       "      <td>AAPL</td>\n",
       "      <td>1.111275</td>\n",
       "      <td>25.639926</td>\n",
       "      <td>22.147016</td>\n",
       "      <td>1.982137</td>\n",
       "      <td>1.407884</td>\n",
       "      <td>0.545489</td>\n",
       "      <td>0.553015</td>\n",
       "      <td>0.606188</td>\n",
       "      <td>1.375950</td>\n",
       "    </tr>\n",
       "    <tr>\n",
       "      <th>2</th>\n",
       "      <td>TSLA</td>\n",
       "      <td>2.022528</td>\n",
       "      <td>38.464770</td>\n",
       "      <td>2.212636</td>\n",
       "      <td>10.891690</td>\n",
       "      <td>3.300256</td>\n",
       "      <td>0.992793</td>\n",
       "      <td>0.429367</td>\n",
       "      <td>2.007951</td>\n",
       "      <td>8.883739</td>\n",
       "    </tr>\n",
       "    <tr>\n",
       "      <th>3</th>\n",
       "      <td>NVDA</td>\n",
       "      <td>2.303597</td>\n",
       "      <td>42.420501</td>\n",
       "      <td>114.175947</td>\n",
       "      <td>8.223474</td>\n",
       "      <td>2.867660</td>\n",
       "      <td>1.130761</td>\n",
       "      <td>0.562809</td>\n",
       "      <td>2.604817</td>\n",
       "      <td>5.618657</td>\n",
       "    </tr>\n",
       "    <tr>\n",
       "      <th>4</th>\n",
       "      <td>ARM</td>\n",
       "      <td>3.212765</td>\n",
       "      <td>55.215995</td>\n",
       "      <td>164.631271</td>\n",
       "      <td>32.158442</td>\n",
       "      <td>5.670841</td>\n",
       "      <td>1.577041</td>\n",
       "      <td>0.391751</td>\n",
       "      <td>5.066662</td>\n",
       "      <td>27.091780</td>\n",
       "    </tr>\n",
       "    <tr>\n",
       "      <th>5</th>\n",
       "      <td>SMCI</td>\n",
       "      <td>3.985388</td>\n",
       "      <td>66.089782</td>\n",
       "      <td>157.658237</td>\n",
       "      <td>36.050577</td>\n",
       "      <td>6.004213</td>\n",
       "      <td>1.956296</td>\n",
       "      <td>0.465047</td>\n",
       "      <td>7.796600</td>\n",
       "      <td>28.253978</td>\n",
       "    </tr>\n",
       "  </tbody>\n",
       "</table>\n",
       "</div>"
      ],
      "text/plain": [
       "  ticker      beta  exp_return  annual_return        var       std       cov  \\\n",
       "0    SPY  1.000000   24.073858      24.073858   0.490867  0.700619  0.490867   \n",
       "1   AAPL  1.111275   25.639926      22.147016   1.982137  1.407884  0.545489   \n",
       "2   TSLA  2.022528   38.464770       2.212636  10.891690  3.300256  0.992793   \n",
       "3   NVDA  2.303597   42.420501     114.175947   8.223474  2.867660  1.130761   \n",
       "4    ARM  3.212765   55.215995     164.631271  32.158442  5.670841  1.577041   \n",
       "5   SMCI  3.985388   66.089782     157.658237  36.050577  6.004213  1.956296   \n",
       "\n",
       "       corr  systematic  idiosyncratic  \n",
       "0  1.000000    0.490867       0.000000  \n",
       "1  0.553015    0.606188       1.375950  \n",
       "2  0.429367    2.007951       8.883739  \n",
       "3  0.562809    2.604817       5.618657  \n",
       "4  0.391751    5.066662      27.091780  \n",
       "5  0.465047    7.796600      28.253978  "
      ]
     },
     "execution_count": 23,
     "metadata": {},
     "output_type": "execute_result"
    }
   ],
   "source": [
    "p.head(10)"
   ]
  },
  {
   "cell_type": "code",
   "execution_count": 24,
   "id": "d701483e-bce1-48a3-a286-c74716cbc9f4",
   "metadata": {},
   "outputs": [],
   "source": [
    "from scipy import stats"
   ]
  },
  {
   "cell_type": "code",
   "execution_count": 25,
   "id": "1fb34600-a26b-4ab6-abcb-9fbca705e9aa",
   "metadata": {},
   "outputs": [],
   "source": [
    "stock_returns = [0.065, 0.0265, -0.0593, -0.001, 0.0346]\n",
    "mkt_returns = [0.055, -0.09, -0.041, 0.045, 0.022]"
   ]
  },
  {
   "cell_type": "code",
   "execution_count": 26,
   "id": "6d24aab7-d239-4e93-81a3-b09e055051b8",
   "metadata": {},
   "outputs": [],
   "source": [
    "beta, alpha, r_value, p_value, std_err =  stats.linregress(stock_returns, mkt_returns)"
   ]
  },
  {
   "cell_type": "code",
   "execution_count": 14,
   "id": "7d08a587-674f-4f03-9085-db74b8d06a2a",
   "metadata": {},
   "outputs": [
    {
     "name": "stdout",
     "output_type": "stream",
     "text": [
      "0.5077431878770808 -0.008481900352462384\n"
     ]
    }
   ],
   "source": [
    " print(beta, alpha)"
   ]
  },
  {
   "cell_type": "code",
   "execution_count": 27,
   "id": "7645b260-387c-47ec-8ed6-8ce595051d69",
   "metadata": {},
   "outputs": [],
   "source": [
    "import pandas as pd\n",
    "dg = pd.read_excel('Beta.xlsx')"
   ]
  },
  {
   "cell_type": "code",
   "execution_count": 28,
   "id": "dba2eb1c-6744-4fb2-9e46-653c33e4e287",
   "metadata": {},
   "outputs": [
    {
     "data": {
      "text/html": [
       "<div>\n",
       "<style scoped>\n",
       "    .dataframe tbody tr th:only-of-type {\n",
       "        vertical-align: middle;\n",
       "    }\n",
       "\n",
       "    .dataframe tbody tr th {\n",
       "        vertical-align: top;\n",
       "    }\n",
       "\n",
       "    .dataframe thead th {\n",
       "        text-align: right;\n",
       "    }\n",
       "</style>\n",
       "<table border=\"1\" class=\"dataframe\">\n",
       "  <thead>\n",
       "    <tr style=\"text-align: right;\">\n",
       "      <th></th>\n",
       "      <th>mydate</th>\n",
       "      <th>SPY</th>\n",
       "      <th>SPY_daily_return</th>\n",
       "      <th>AAPL</th>\n",
       "      <th>AAPL_daily_return</th>\n",
       "      <th>TSLA</th>\n",
       "      <th>TSLA_daily_return</th>\n",
       "      <th>NVDA</th>\n",
       "      <th>NVDA_daily_return</th>\n",
       "      <th>ARM</th>\n",
       "      <th>ARM_daily_return</th>\n",
       "      <th>SMCI</th>\n",
       "      <th>SMCI_daily_return</th>\n",
       "    </tr>\n",
       "  </thead>\n",
       "  <tbody>\n",
       "    <tr>\n",
       "      <th>0</th>\n",
       "      <td>2024-07-12</td>\n",
       "      <td>559.989990</td>\n",
       "      <td>0.630752</td>\n",
       "      <td>230.539993</td>\n",
       "      <td>1.305087</td>\n",
       "      <td>248.229996</td>\n",
       "      <td>2.987179</td>\n",
       "      <td>129.240005</td>\n",
       "      <td>1.444273</td>\n",
       "      <td>181.179993</td>\n",
       "      <td>4.613425</td>\n",
       "      <td>909.960022</td>\n",
       "      <td>2.332387</td>\n",
       "    </tr>\n",
       "    <tr>\n",
       "      <th>1</th>\n",
       "      <td>2024-07-11</td>\n",
       "      <td>556.479980</td>\n",
       "      <td>-0.862258</td>\n",
       "      <td>227.570007</td>\n",
       "      <td>-2.322083</td>\n",
       "      <td>241.029999</td>\n",
       "      <td>-8.444128</td>\n",
       "      <td>127.400002</td>\n",
       "      <td>-5.566676</td>\n",
       "      <td>173.190002</td>\n",
       "      <td>-7.116810</td>\n",
       "      <td>889.219971</td>\n",
       "      <td>-1.195583</td>\n",
       "    </tr>\n",
       "    <tr>\n",
       "      <th>2</th>\n",
       "      <td>2024-07-10</td>\n",
       "      <td>561.320007</td>\n",
       "      <td>0.989529</td>\n",
       "      <td>232.979996</td>\n",
       "      <td>1.880358</td>\n",
       "      <td>263.260010</td>\n",
       "      <td>0.354524</td>\n",
       "      <td>134.910004</td>\n",
       "      <td>2.686862</td>\n",
       "      <td>186.460007</td>\n",
       "      <td>2.293180</td>\n",
       "      <td>899.979980</td>\n",
       "      <td>0.487935</td>\n",
       "    </tr>\n",
       "    <tr>\n",
       "      <th>3</th>\n",
       "      <td>2024-07-09</td>\n",
       "      <td>555.820007</td>\n",
       "      <td>0.097244</td>\n",
       "      <td>228.679993</td>\n",
       "      <td>0.377485</td>\n",
       "      <td>262.329987</td>\n",
       "      <td>3.712337</td>\n",
       "      <td>131.380005</td>\n",
       "      <td>2.480505</td>\n",
       "      <td>182.279999</td>\n",
       "      <td>-1.310232</td>\n",
       "      <td>895.609985</td>\n",
       "      <td>-0.414753</td>\n",
       "    </tr>\n",
       "    <tr>\n",
       "      <th>4</th>\n",
       "      <td>2024-07-08</td>\n",
       "      <td>555.280029</td>\n",
       "      <td>0.115393</td>\n",
       "      <td>227.820007</td>\n",
       "      <td>0.653888</td>\n",
       "      <td>252.940002</td>\n",
       "      <td>0.564567</td>\n",
       "      <td>128.199997</td>\n",
       "      <td>1.883490</td>\n",
       "      <td>184.699997</td>\n",
       "      <td>1.937190</td>\n",
       "      <td>899.340027</td>\n",
       "      <td>6.232135</td>\n",
       "    </tr>\n",
       "    <tr>\n",
       "      <th>5</th>\n",
       "      <td>2024-07-05</td>\n",
       "      <td>554.640015</td>\n",
       "      <td>0.576650</td>\n",
       "      <td>226.339996</td>\n",
       "      <td>2.162037</td>\n",
       "      <td>251.520004</td>\n",
       "      <td>2.082067</td>\n",
       "      <td>125.830002</td>\n",
       "      <td>-1.909882</td>\n",
       "      <td>181.190002</td>\n",
       "      <td>7.697335</td>\n",
       "      <td>846.580017</td>\n",
       "      <td>-0.049585</td>\n",
       "    </tr>\n",
       "    <tr>\n",
       "      <th>6</th>\n",
       "      <td>2024-07-03</td>\n",
       "      <td>551.460022</td>\n",
       "      <td>0.446260</td>\n",
       "      <td>221.550003</td>\n",
       "      <td>0.581104</td>\n",
       "      <td>246.389999</td>\n",
       "      <td>6.542422</td>\n",
       "      <td>128.279999</td>\n",
       "      <td>4.573246</td>\n",
       "      <td>168.240005</td>\n",
       "      <td>2.924262</td>\n",
       "      <td>847.000000</td>\n",
       "      <td>1.174196</td>\n",
       "    </tr>\n",
       "    <tr>\n",
       "      <th>7</th>\n",
       "      <td>2024-07-02</td>\n",
       "      <td>549.010010</td>\n",
       "      <td>0.672971</td>\n",
       "      <td>220.270004</td>\n",
       "      <td>1.623993</td>\n",
       "      <td>231.259995</td>\n",
       "      <td>10.197271</td>\n",
       "      <td>122.669998</td>\n",
       "      <td>-1.311347</td>\n",
       "      <td>163.460007</td>\n",
       "      <td>2.915069</td>\n",
       "      <td>837.169983</td>\n",
       "      <td>3.059136</td>\n",
       "    </tr>\n",
       "    <tr>\n",
       "      <th>8</th>\n",
       "      <td>2024-07-01</td>\n",
       "      <td>545.340027</td>\n",
       "      <td>0.205809</td>\n",
       "      <td>216.750000</td>\n",
       "      <td>2.910457</td>\n",
       "      <td>209.860001</td>\n",
       "      <td>6.054172</td>\n",
       "      <td>124.300003</td>\n",
       "      <td>0.615187</td>\n",
       "      <td>158.830002</td>\n",
       "      <td>-2.927511</td>\n",
       "      <td>812.320007</td>\n",
       "      <td>-0.857993</td>\n",
       "    </tr>\n",
       "    <tr>\n",
       "      <th>9</th>\n",
       "      <td>2024-06-28</td>\n",
       "      <td>544.219971</td>\n",
       "      <td>-0.393511</td>\n",
       "      <td>210.619995</td>\n",
       "      <td>-1.625414</td>\n",
       "      <td>197.880005</td>\n",
       "      <td>0.233009</td>\n",
       "      <td>123.540001</td>\n",
       "      <td>-0.362930</td>\n",
       "      <td>163.619995</td>\n",
       "      <td>-1.985804</td>\n",
       "      <td>819.349976</td>\n",
       "      <td>-7.975427</td>\n",
       "    </tr>\n",
       "  </tbody>\n",
       "</table>\n",
       "</div>"
      ],
      "text/plain": [
       "      mydate         SPY  SPY_daily_return        AAPL  AAPL_daily_return  \\\n",
       "0 2024-07-12  559.989990          0.630752  230.539993           1.305087   \n",
       "1 2024-07-11  556.479980         -0.862258  227.570007          -2.322083   \n",
       "2 2024-07-10  561.320007          0.989529  232.979996           1.880358   \n",
       "3 2024-07-09  555.820007          0.097244  228.679993           0.377485   \n",
       "4 2024-07-08  555.280029          0.115393  227.820007           0.653888   \n",
       "5 2024-07-05  554.640015          0.576650  226.339996           2.162037   \n",
       "6 2024-07-03  551.460022          0.446260  221.550003           0.581104   \n",
       "7 2024-07-02  549.010010          0.672971  220.270004           1.623993   \n",
       "8 2024-07-01  545.340027          0.205809  216.750000           2.910457   \n",
       "9 2024-06-28  544.219971         -0.393511  210.619995          -1.625414   \n",
       "\n",
       "         TSLA  TSLA_daily_return        NVDA  NVDA_daily_return         ARM  \\\n",
       "0  248.229996           2.987179  129.240005           1.444273  181.179993   \n",
       "1  241.029999          -8.444128  127.400002          -5.566676  173.190002   \n",
       "2  263.260010           0.354524  134.910004           2.686862  186.460007   \n",
       "3  262.329987           3.712337  131.380005           2.480505  182.279999   \n",
       "4  252.940002           0.564567  128.199997           1.883490  184.699997   \n",
       "5  251.520004           2.082067  125.830002          -1.909882  181.190002   \n",
       "6  246.389999           6.542422  128.279999           4.573246  168.240005   \n",
       "7  231.259995          10.197271  122.669998          -1.311347  163.460007   \n",
       "8  209.860001           6.054172  124.300003           0.615187  158.830002   \n",
       "9  197.880005           0.233009  123.540001          -0.362930  163.619995   \n",
       "\n",
       "   ARM_daily_return        SMCI  SMCI_daily_return  \n",
       "0          4.613425  909.960022           2.332387  \n",
       "1         -7.116810  889.219971          -1.195583  \n",
       "2          2.293180  899.979980           0.487935  \n",
       "3         -1.310232  895.609985          -0.414753  \n",
       "4          1.937190  899.340027           6.232135  \n",
       "5          7.697335  846.580017          -0.049585  \n",
       "6          2.924262  847.000000           1.174196  \n",
       "7          2.915069  837.169983           3.059136  \n",
       "8         -2.927511  812.320007          -0.857993  \n",
       "9         -1.985804  819.349976          -7.975427  "
      ]
     },
     "execution_count": 28,
     "metadata": {},
     "output_type": "execute_result"
    }
   ],
   "source": [
    "dg.head(10)"
   ]
  },
  {
   "cell_type": "code",
   "execution_count": 17,
   "id": "1ac54455-eb9e-4634-8b6e-03a1108cca6d",
   "metadata": {},
   "outputs": [
    {
     "name": "stdout",
     "output_type": "stream",
     "text": [
      "<class 'pandas.core.frame.DataFrame'>\n",
      "RangeIndex: 252 entries, 0 to 251\n",
      "Data columns (total 13 columns):\n",
      " #   Column             Non-Null Count  Dtype         \n",
      "---  ------             --------------  -----         \n",
      " 0   mydate             252 non-null    datetime64[ns]\n",
      " 1   SPY                252 non-null    float64       \n",
      " 2   SPY_daily_return   251 non-null    float64       \n",
      " 3   AAPL               252 non-null    float64       \n",
      " 4   AAPL_daily_return  251 non-null    float64       \n",
      " 5   TSLA               252 non-null    float64       \n",
      " 6   TSLA_daily_return  251 non-null    float64       \n",
      " 7   NVDA               252 non-null    float64       \n",
      " 8   NVDA_daily_return  251 non-null    float64       \n",
      " 9   ARM                208 non-null    float64       \n",
      " 10  ARM_daily_return   207 non-null    float64       \n",
      " 11  SMCI               252 non-null    float64       \n",
      " 12  SMCI_daily_return  251 non-null    float64       \n",
      "dtypes: datetime64[ns](1), float64(12)\n",
      "memory usage: 25.7 KB\n"
     ]
    }
   ],
   "source": [
    "dg.info()"
   ]
  },
  {
   "cell_type": "code",
   "execution_count": 18,
   "id": "fbbac07f-c638-4cc8-a14e-39052031325c",
   "metadata": {},
   "outputs": [],
   "source": [
    "beta, alpha, r_value, p_value, std_err =  stats.linregress(dg['SPY_daily_return'], dg['AAPL_daily_return'])"
   ]
  },
  {
   "cell_type": "code",
   "execution_count": 19,
   "id": "c31cca3e-7040-4f56-a187-fd6461f563cc",
   "metadata": {},
   "outputs": [
    {
     "name": "stdout",
     "output_type": "stream",
     "text": [
      "nan nan\n"
     ]
    }
   ],
   "source": [
    "print(beta, alpha)"
   ]
  },
  {
   "cell_type": "code",
   "execution_count": 20,
   "id": "9e9a5f02-c85b-4c85-857a-87ad0d5fa0e7",
   "metadata": {},
   "outputs": [
    {
     "data": {
      "text/plain": [
       "mydate                0\n",
       "SPY                   0\n",
       "SPY_daily_return      1\n",
       "AAPL                  0\n",
       "AAPL_daily_return     1\n",
       "TSLA                  0\n",
       "TSLA_daily_return     1\n",
       "NVDA                  0\n",
       "NVDA_daily_return     1\n",
       "ARM                  44\n",
       "ARM_daily_return     45\n",
       "SMCI                  0\n",
       "SMCI_daily_return     1\n",
       "dtype: int64"
      ]
     },
     "execution_count": 20,
     "metadata": {},
     "output_type": "execute_result"
    }
   ],
   "source": [
    "dg.isnull().sum() "
   ]
  },
  {
   "cell_type": "code",
   "execution_count": 21,
   "id": "d3dc5a31-4f98-475d-8e15-40f9e96cd7cd",
   "metadata": {},
   "outputs": [],
   "source": [
    "dg = dg.dropna()"
   ]
  },
  {
   "cell_type": "code",
   "execution_count": 22,
   "id": "4b8228da-e880-43cc-a089-e87ea044b48f",
   "metadata": {},
   "outputs": [
    {
     "data": {
      "text/plain": [
       "0.5224423606675562"
      ]
     },
     "execution_count": 22,
     "metadata": {},
     "output_type": "execute_result"
    }
   ],
   "source": [
    "a= dg['SPY_daily_return'].cov(dg['AAPL_daily_return'])\n",
    "a"
   ]
  },
  {
   "cell_type": "code",
   "execution_count": null,
   "id": "94aed43c-7ec4-4b56-b61f-59154d228303",
   "metadata": {},
   "outputs": [],
   "source": []
  }
 ],
 "metadata": {
  "kernelspec": {
   "display_name": "Python 3",
   "language": "python",
   "name": "python3"
  },
  "language_info": {
   "codemirror_mode": {
    "name": "ipython",
    "version": 3
   },
   "file_extension": ".py",
   "mimetype": "text/x-python",
   "name": "python",
   "nbconvert_exporter": "python",
   "pygments_lexer": "ipython3",
   "version": "3.8.8"
  }
 },
 "nbformat": 4,
 "nbformat_minor": 5
}
